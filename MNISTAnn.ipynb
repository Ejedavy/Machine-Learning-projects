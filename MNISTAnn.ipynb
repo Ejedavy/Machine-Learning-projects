{
  "nbformat": 4,
  "nbformat_minor": 0,
  "metadata": {
    "colab": {
      "provenance": [],
      "gpuType": "T4",
      "authorship_tag": "ABX9TyMwO/eSBJjdcvoJ69Ccvsoz",
      "include_colab_link": true
    },
    "kernelspec": {
      "name": "python3",
      "display_name": "Python 3"
    },
    "language_info": {
      "name": "python"
    },
    "accelerator": "GPU",
    "gpuClass": "standard"
  },
  "cells": [
    {
      "cell_type": "markdown",
      "metadata": {
        "id": "view-in-github",
        "colab_type": "text"
      },
      "source": [
        "<a href=\"https://colab.research.google.com/github/Ejedavy/Machine-Learning-projects/blob/main/MNISTAnn.ipynb\" target=\"_parent\"><img src=\"https://colab.research.google.com/assets/colab-badge.svg\" alt=\"Open In Colab\"/></a>"
      ]
    },
    {
      "cell_type": "code",
      "execution_count": 143,
      "metadata": {
        "id": "r9of-jEJwzli"
      },
      "outputs": [],
      "source": [
        "import torch\n",
        "import torch.nn as nn\n",
        "import torch.nn.functional as F\n",
        "import torch.optim as optim\n",
        "from torchvision import datasets\n",
        "from torch.utils.data import dataloader\n",
        "from torchvision import transforms\n",
        "import matplotlib.pyplot as plt"
      ]
    },
    {
      "cell_type": "code",
      "source": [
        "class MNISTNN(nn.Module):\n",
        "  def __init__(self, input_size, output_size):\n",
        "    super(MNISTNN, self).__init__()\n",
        "    self.fc1 = nn.Linear(input_size, 50)\n",
        "    self.fc2 = nn.Linear(50, output_size)\n",
        "\n",
        "  def forward(self, x):\n",
        "    x = self.fc1(x)\n",
        "    x = F.relu(x)\n",
        "    return self.fc2(x)"
      ],
      "metadata": {
        "id": "XdVqk055xMJ-"
      },
      "execution_count": 144,
      "outputs": []
    },
    {
      "cell_type": "code",
      "source": [
        "class CNNMNIST(nn.Module):\n",
        "  def __init__(self, in_channels = 1, num_classes = 10):\n",
        "    super(CNNMNIST, self).__init__()\n",
        "    self.conv1 = nn.Conv2d(in_channels = in_channels, out_channels = 8, kernel_size = (3, 3,), stride = (1, 1), padding =(1, 1))\n",
        "    self.conv2 = nn.Conv2d(in_channels = 8, out_channels = 16, kernel_size = (3, 3,), stride = (1, 1), padding =(1, 1))\n",
        "    self.pool = nn.MaxPool2d(stride=(2, 2), kernel_size = (2, 2))\n",
        "    self.fc1 = nn.Linear(16 * 7 * 7, 90)\n",
        "    self.fc2 = nn.Linear(90, 10)\n",
        "\n",
        "  def forward(self, x):\n",
        "    x = self.conv1(x)\n",
        "    x = F.relu(x)\n",
        "    x = self.pool(x)\n",
        "    x = self.conv2(x)\n",
        "    x = F.relu(x)\n",
        "    x = self.pool(x)\n",
        "    x = x.reshape(x.shape[0], -1)\n",
        "    x = F.relu(self.fc1(x))\n",
        "    return self.fc2(x)"
      ],
      "metadata": {
        "id": "d7tkyQz_19Np"
      },
      "execution_count": 145,
      "outputs": []
    },
    {
      "cell_type": "code",
      "source": [
        "class OptimizedMNIST(nn.Module):\n",
        "  def __init__(self, in_channels = 1, num_classes = 10):\n",
        "    super(OptimizedMNIST, self).__init__()\n",
        "    self.conv1 = nn.Conv2d(in_channels = in_channels, out_channels = 8, kernel_size = (3, 3), stride = (1, 1), padding = (1, 1))\n",
        "    self.normalization1 = nn.BatchNorm2d(num_features = 8)\n",
        "    self.conv2 = nn.Conv2d(in_channels = 8, out_channels = 16, kernel_size = (3, 3,), stride = (1, 1), padding =(1, 1))\n",
        "    self.normalization2 = nn.BatchNorm2d(num_features = 16)\n",
        "    self.conv3 = nn.Conv2d(in_channels = 16, out_channels = 32, kernel_size = (3, 3,), stride = (1, 1), padding =(1, 1))\n",
        "    self.normalization3 = nn.BatchNorm2d(num_features = 32)\n",
        "    self.pool = nn.MaxPool2d(stride=(2, 2), kernel_size = (2, 2))\n",
        "    self.fc1 = nn.Linear(32 * 3 * 3, 100)\n",
        "    self.fc2 = nn.Linear(100, 100)\n",
        "    self.fc3 = nn.Linear(100, 100)\n",
        "    self.fc4 = nn.Linear(100, 100)\n",
        "    self.fc5 = nn.Linear(100, 90)\n",
        "    self.fc6 = nn.Linear(90, num_classes)\n",
        "    self.dropout= nn.Dropout(p = 0.35)\n",
        "\n",
        "  def forward(self, x):\n",
        "    x = self.conv1(x)\n",
        "    x = F.relu(self.normalization1(x))\n",
        "    x = self.pool(x)\n",
        "    x = self.conv2(x)\n",
        "    x = F.relu(self.normalization2(x))\n",
        "    x = self.pool(x)\n",
        "    x = self.conv3(x)\n",
        "    x = F.relu(self.normalization3(x))\n",
        "    x = self.pool(x)\n",
        "    x = x.reshape(x.shape[0], -1)\n",
        "    x = self.dropout(F.relu(self.fc1(x)))\n",
        "    x = self.dropout(F.relu(self.fc2(x)))\n",
        "    x = self.dropout(F.relu(self.fc3(x)))\n",
        "    x = self.dropout(F.relu(self.fc4(x)))\n",
        "    x = self.dropout(F.relu(self.fc5(x)))\n",
        "    x = self.fc6(x)\n",
        "\n",
        "    return x"
      ],
      "metadata": {
        "id": "O5JJjuWn-xKB"
      },
      "execution_count": 146,
      "outputs": []
    },
    {
      "cell_type": "code",
      "source": [
        "transformation =   transforms.Compose([transforms.ToTensor(),  transforms.Normalize((0.1307,), (0.3081,))])"
      ],
      "metadata": {
        "id": "Oj5BjQkOGA0_"
      },
      "execution_count": 147,
      "outputs": []
    },
    {
      "cell_type": "code",
      "source": [
        "train_data = datasets.MNIST(root = \"/datasets\", train = True, transform = transformation, download = True)"
      ],
      "metadata": {
        "id": "U6FXvbyfzRnA"
      },
      "execution_count": 148,
      "outputs": []
    },
    {
      "cell_type": "code",
      "source": [
        "test_data = datasets.MNIST(root = \"/datasets\", train = False, transform = transformation, download = True)"
      ],
      "metadata": {
        "id": "FB5msR3xzxKy"
      },
      "execution_count": 149,
      "outputs": []
    },
    {
      "cell_type": "code",
      "source": [
        "# Create the data loader"
      ],
      "metadata": {
        "id": "7QC3Uvv2z4jQ"
      },
      "execution_count": 150,
      "outputs": []
    },
    {
      "cell_type": "code",
      "source": [
        "print(train_data[0][0].shape)"
      ],
      "metadata": {
        "colab": {
          "base_uri": "https://localhost:8080/"
        },
        "id": "t5vIHM7o0l1g",
        "outputId": "3e619ea5-3b6a-4c7e-bfb6-c837952f53f9"
      },
      "execution_count": 151,
      "outputs": [
        {
          "output_type": "stream",
          "name": "stdout",
          "text": [
            "torch.Size([1, 28, 28])\n"
          ]
        }
      ]
    },
    {
      "cell_type": "code",
      "source": [
        "plt.title(train_data[5][1])\n",
        "plt.imshow(train_data[5][0].squeeze(0))"
      ],
      "metadata": {
        "colab": {
          "base_uri": "https://localhost:8080/",
          "height": 470
        },
        "id": "hPM4qEqm0BpX",
        "outputId": "bc8bba49-e6f0-4046-871b-83c527c9f15a"
      },
      "execution_count": 152,
      "outputs": [
        {
          "output_type": "execute_result",
          "data": {
            "text/plain": [
              "<matplotlib.image.AxesImage at 0x7fded91d20e0>"
            ]
          },
          "metadata": {},
          "execution_count": 152
        },
        {
          "output_type": "display_data",
          "data": {
            "text/plain": [
              "<Figure size 640x480 with 1 Axes>"
            ],
            "image/png": "[encoded data removed]"
          },
          "metadata": {}
        }
      ]
    },
    {
      "cell_type": "code",
      "source": [
        "BATCH_SIZE = 64\n",
        "LEARNING_RATE = 0.005\n",
        "EPOCH = 100"
      ],
      "metadata": {
        "id": "Qc_OxuwV1xUT"
      },
      "execution_count": 153,
      "outputs": []
    },
    {
      "cell_type": "code",
      "source": [
        "model = MNISTNN(28 * 28, 10)"
      ],
      "metadata": {
        "id": "Y5YgWx9m2U8h"
      },
      "execution_count": 154,
      "outputs": []
    },
    {
      "cell_type": "code",
      "source": [
        "model = CNNMNIST(in_channels = 1, num_classes = 10)"
      ],
      "metadata": {
        "id": "w70H8EBu5uXb"
      },
      "execution_count": 155,
      "outputs": []
    },
    {
      "cell_type": "code",
      "source": [
        "model = OptimizedMNIST()"
      ],
      "metadata": {
        "id": "dW6ymncfL0b8"
      },
      "execution_count": 156,
      "outputs": []
    },
    {
      "cell_type": "code",
      "source": [
        "train_loader = dataloader.DataLoader(dataset = train_data, batch_size= BATCH_SIZE, shuffle = True)\n",
        "test_loader = dataloader.DataLoader(dataset = test_data, batch_size= BATCH_SIZE, shuffle= True)"
      ],
      "metadata": {
        "id": "L2mJE-wP0QWy"
      },
      "execution_count": 157,
      "outputs": []
    },
    {
      "cell_type": "code",
      "source": [
        "optmizer = optim.Adam(lr = LEARNING_RATE, params = model.parameters(), weight_decay = 0.001)\n",
        "loss = nn.CrossEntropyLoss()\n",
        "scheduler = torch.optim.lr_scheduler.StepLR(optmizer, step_size=10, gamma=0.1)"
      ],
      "metadata": {
        "id": "yYudVgHH16M_"
      },
      "execution_count": 158,
      "outputs": []
    },
    {
      "cell_type": "code",
      "source": [
        "device = \"cuda\" if torch.cuda.is_available() else \"cpu\""
      ],
      "metadata": {
        "id": "lUfl5L5m3BWx"
      },
      "execution_count": 159,
      "outputs": []
    },
    {
      "cell_type": "code",
      "source": [
        "def check_accuracy(model, loader):\n",
        "  model.eval()\n",
        "  total_samples = 0\n",
        "  correct_predictions =  0\n",
        "  model.to(device)\n",
        "  with torch.no_grad():\n",
        "    for x, y in loader:\n",
        "      x = x.to(device)\n",
        "      y = y.to(device)\n",
        "      #x = x.reshape(x.shape[0], - 1)\n",
        "      pred = model(x)\n",
        "      _, pred = pred.max(1)\n",
        "      correct_predictions += sum(pred == y)\n",
        "      total_samples += len(y)\n",
        "  return correct_predictions / total_samples "
      ],
      "metadata": {
        "id": "lCO-Ggyi3x-X"
      },
      "execution_count": 160,
      "outputs": []
    },
    {
      "cell_type": "code",
      "source": [
        "def check_losses(model, loader):\n",
        "  model.eval()\n",
        "  running_loss = 0\n",
        "  total_sample = 0\n",
        "  with torch.no_grad():\n",
        "    for x, y in loader:\n",
        "      x = x.to(device)\n",
        "      y = y.to(device)\n",
        "\n",
        "      pred = model(x)\n",
        "      c_loss = loss(pred, y)\n",
        "      running_loss += c_loss.item()\n",
        "      total_sample += len(loader)\n",
        "  return running_loss / total_sample"
      ],
      "metadata": {
        "id": "YPxrPkFgUXfw"
      },
      "execution_count": 161,
      "outputs": []
    },
    {
      "cell_type": "code",
      "source": [
        "model = model.to(device)\n",
        "history ={\"training_accuracy\":[], \"val_accuracy\": [], \"training_loss\": [], \"val_loss\": []}\n",
        "for epoch in range(EPOCH):\n",
        "  model.train()\n",
        "  scheduler.step()\n",
        "  for batch_idx, (data, target) in enumerate(train_loader):\n",
        "    data = data.to(device)\n",
        "    target = target.to(device)\n",
        "    #data = data.reshape(data.shape[0], - 1)\n",
        "\n",
        "    output = model(data)\n",
        "    l2_lambda = 0.001  # Adjust the regularization strength as desired\n",
        "    l2_reg = torch.tensor(0., requires_grad=True)\n",
        "    for param in model.parameters():\n",
        "        l2_reg = l2_reg + torch.norm(param)\n",
        "\n",
        "    current_loss = loss(output, target) + (l2_lambda * l2_reg)\n",
        "  \n",
        "    optmizer.zero_grad()\n",
        "\n",
        "    current_loss.backward()\n",
        "\n",
        "    optmizer.step()\n",
        "\n",
        "  training_accuracy = check_accuracy(model, train_loader)\n",
        "  val_accuracy = check_accuracy(model, test_loader)\n",
        "  training_loss = check_losses(model, train_loader)\n",
        "  val_loss = check_losses(model, test_loader)\n",
        "\n",
        "  history[\"training_accuracy\"].append(training_accuracy)\n",
        "  history[\"val_accuracy\"].append(val_accuracy)\n",
        "  history[\"training_loss\"].append(training_loss)\n",
        "  history[\"val_loss\"].append(val_loss)\n",
        "\n",
        "\n",
        "  print(f\"Epoch {epoch+ 1} / {EPOCH}, Training accuracy: {training_accuracy:.4f}, Validation Accuracy : {val_accuracy:.4f}, Training Loss: {training_loss:.6f}, Validation Loss: {val_loss:.6f}\")"
      ],
      "metadata": {
        "colab": {
          "base_uri": "https://localhost:8080/",
          "height": 1000
        },
        "id": "RpE6QOnW2bdF",
        "outputId": "d989df2e-b65a-4dc9-d6ac-b35b458124e1"
      },
      "execution_count": 162,
      "outputs": [
        {
          "output_type": "stream",
          "name": "stdout",
          "text": [
            "Epoch 1 / 100, Training accuracy: 0.9305, Validation Accuracy : 0.9298, Training Loss: 0.000291, Validation Loss: 0.001724\n",
            "Epoch 2 / 100, Training accuracy: 0.9652, Validation Accuracy : 0.9664, Training Loss: 0.000172, Validation Loss: 0.000985\n",
            "Epoch 3 / 100, Training accuracy: 0.9740, Validation Accuracy : 0.9772, Training Loss: 0.000117, Validation Loss: 0.000633\n",
            "Epoch 4 / 100, Training accuracy: 0.9791, Validation Accuracy : 0.9804, Training Loss: 0.000107, Validation Loss: 0.000568\n",
            "Epoch 5 / 100, Training accuracy: 0.9824, Validation Accuracy : 0.9828, Training Loss: 0.000088, Validation Loss: 0.000488\n",
            "Epoch 6 / 100, Training accuracy: 0.9778, Validation Accuracy : 0.9770, Training Loss: 0.000111, Validation Loss: 0.000699\n",
            "Epoch 7 / 100, Training accuracy: 0.9824, Validation Accuracy : 0.9837, Training Loss: 0.000097, Validation Loss: 0.000548\n",
            "Epoch 8 / 100, Training accuracy: 0.9805, Validation Accuracy : 0.9814, Training Loss: 0.000092, Validation Loss: 0.000522\n",
            "Epoch 9 / 100, Training accuracy: 0.9839, Validation Accuracy : 0.9836, Training Loss: 0.000075, Validation Loss: 0.000447\n",
            "Epoch 10 / 100, Training accuracy: 0.9906, Validation Accuracy : 0.9883, Training Loss: 0.000045, Validation Loss: 0.000306\n",
            "Epoch 11 / 100, Training accuracy: 0.9918, Validation Accuracy : 0.9887, Training Loss: 0.000038, Validation Loss: 0.000286\n",
            "Epoch 12 / 100, Training accuracy: 0.9927, Validation Accuracy : 0.9892, Training Loss: 0.000033, Validation Loss: 0.000265\n",
            "Epoch 13 / 100, Training accuracy: 0.9934, Validation Accuracy : 0.9896, Training Loss: 0.000030, Validation Loss: 0.000253\n",
            "Epoch 14 / 100, Training accuracy: 0.9936, Validation Accuracy : 0.9905, Training Loss: 0.000029, Validation Loss: 0.000238\n",
            "Epoch 15 / 100, Training accuracy: 0.9935, Validation Accuracy : 0.9897, Training Loss: 0.000028, Validation Loss: 0.000255\n",
            "Epoch 16 / 100, Training accuracy: 0.9938, Validation Accuracy : 0.9888, Training Loss: 0.000027, Validation Loss: 0.000280\n",
            "Epoch 17 / 100, Training accuracy: 0.9947, Validation Accuracy : 0.9902, Training Loss: 0.000023, Validation Loss: 0.000236\n",
            "Epoch 18 / 100, Training accuracy: 0.9951, Validation Accuracy : 0.9900, Training Loss: 0.000021, Validation Loss: 0.000223\n",
            "Epoch 19 / 100, Training accuracy: 0.9941, Validation Accuracy : 0.9903, Training Loss: 0.000025, Validation Loss: 0.000250\n",
            "Epoch 20 / 100, Training accuracy: 0.9962, Validation Accuracy : 0.9904, Training Loss: 0.000017, Validation Loss: 0.000210\n",
            "Epoch 21 / 100, Training accuracy: 0.9963, Validation Accuracy : 0.9904, Training Loss: 0.000016, Validation Loss: 0.000207\n",
            "Epoch 22 / 100, Training accuracy: 0.9963, Validation Accuracy : 0.9905, Training Loss: 0.000016, Validation Loss: 0.000208\n",
            "Epoch 23 / 100, Training accuracy: 0.9965, Validation Accuracy : 0.9907, Training Loss: 0.000016, Validation Loss: 0.000208\n",
            "Epoch 24 / 100, Training accuracy: 0.9968, Validation Accuracy : 0.9915, Training Loss: 0.000015, Validation Loss: 0.000197\n",
            "Epoch 25 / 100, Training accuracy: 0.9967, Validation Accuracy : 0.9917, Training Loss: 0.000014, Validation Loss: 0.000196\n",
            "Epoch 26 / 100, Training accuracy: 0.9969, Validation Accuracy : 0.9914, Training Loss: 0.000014, Validation Loss: 0.000203\n",
            "Epoch 27 / 100, Training accuracy: 0.9970, Validation Accuracy : 0.9920, Training Loss: 0.000014, Validation Loss: 0.000188\n",
            "Epoch 28 / 100, Training accuracy: 0.9970, Validation Accuracy : 0.9916, Training Loss: 0.000013, Validation Loss: 0.000192\n",
            "Epoch 29 / 100, Training accuracy: 0.9970, Validation Accuracy : 0.9920, Training Loss: 0.000014, Validation Loss: 0.000194\n",
            "Epoch 30 / 100, Training accuracy: 0.9972, Validation Accuracy : 0.9916, Training Loss: 0.000013, Validation Loss: 0.000193\n",
            "Epoch 31 / 100, Training accuracy: 0.9971, Validation Accuracy : 0.9917, Training Loss: 0.000013, Validation Loss: 0.000194\n",
            "Epoch 32 / 100, Training accuracy: 0.9972, Validation Accuracy : 0.9919, Training Loss: 0.000013, Validation Loss: 0.000195\n",
            "Epoch 33 / 100, Training accuracy: 0.9972, Validation Accuracy : 0.9916, Training Loss: 0.000013, Validation Loss: 0.000193\n",
            "Epoch 34 / 100, Training accuracy: 0.9972, Validation Accuracy : 0.9920, Training Loss: 0.000013, Validation Loss: 0.000190\n",
            "Epoch 35 / 100, Training accuracy: 0.9971, Validation Accuracy : 0.9918, Training Loss: 0.000013, Validation Loss: 0.000193\n",
            "Epoch 36 / 100, Training accuracy: 0.9972, Validation Accuracy : 0.9919, Training Loss: 0.000013, Validation Loss: 0.000198\n",
            "Epoch 37 / 100, Training accuracy: 0.9972, Validation Accuracy : 0.9917, Training Loss: 0.000013, Validation Loss: 0.000193\n",
            "Epoch 38 / 100, Training accuracy: 0.9972, Validation Accuracy : 0.9919, Training Loss: 0.000013, Validation Loss: 0.000195\n",
            "Epoch 39 / 100, Training accuracy: 0.9973, Validation Accuracy : 0.9920, Training Loss: 0.000013, Validation Loss: 0.000191\n",
            "Epoch 40 / 100, Training accuracy: 0.9972, Validation Accuracy : 0.9919, Training Loss: 0.000013, Validation Loss: 0.000192\n",
            "Epoch 41 / 100, Training accuracy: 0.9972, Validation Accuracy : 0.9917, Training Loss: 0.000013, Validation Loss: 0.000193\n",
            "Epoch 42 / 100, Training accuracy: 0.9972, Validation Accuracy : 0.9917, Training Loss: 0.000013, Validation Loss: 0.000196\n",
            "Epoch 43 / 100, Training accuracy: 0.9972, Validation Accuracy : 0.9916, Training Loss: 0.000013, Validation Loss: 0.000191\n",
            "Epoch 44 / 100, Training accuracy: 0.9972, Validation Accuracy : 0.9918, Training Loss: 0.000013, Validation Loss: 0.000201\n",
            "Epoch 45 / 100, Training accuracy: 0.9972, Validation Accuracy : 0.9918, Training Loss: 0.000013, Validation Loss: 0.000200\n",
            "Epoch 46 / 100, Training accuracy: 0.9972, Validation Accuracy : 0.9918, Training Loss: 0.000013, Validation Loss: 0.000191\n",
            "Epoch 47 / 100, Training accuracy: 0.9973, Validation Accuracy : 0.9920, Training Loss: 0.000013, Validation Loss: 0.000192\n",
            "Epoch 48 / 100, Training accuracy: 0.9972, Validation Accuracy : 0.9917, Training Loss: 0.000013, Validation Loss: 0.000193\n",
            "Epoch 49 / 100, Training accuracy: 0.9973, Validation Accuracy : 0.9918, Training Loss: 0.000013, Validation Loss: 0.000191\n",
            "Epoch 50 / 100, Training accuracy: 0.9972, Validation Accuracy : 0.9918, Training Loss: 0.000013, Validation Loss: 0.000192\n",
            "Epoch 51 / 100, Training accuracy: 0.9972, Validation Accuracy : 0.9917, Training Loss: 0.000013, Validation Loss: 0.000193\n",
            "Epoch 52 / 100, Training accuracy: 0.9973, Validation Accuracy : 0.9918, Training Loss: 0.000013, Validation Loss: 0.000194\n",
            "Epoch 53 / 100, Training accuracy: 0.9973, Validation Accuracy : 0.9919, Training Loss: 0.000013, Validation Loss: 0.000191\n",
            "Epoch 54 / 100, Training accuracy: 0.9973, Validation Accuracy : 0.9917, Training Loss: 0.000013, Validation Loss: 0.000197\n",
            "Epoch 55 / 100, Training accuracy: 0.9973, Validation Accuracy : 0.9918, Training Loss: 0.000013, Validation Loss: 0.000191\n",
            "Epoch 56 / 100, Training accuracy: 0.9972, Validation Accuracy : 0.9919, Training Loss: 0.000013, Validation Loss: 0.000193\n",
            "Epoch 57 / 100, Training accuracy: 0.9972, Validation Accuracy : 0.9918, Training Loss: 0.000013, Validation Loss: 0.000192\n",
            "Epoch 58 / 100, Training accuracy: 0.9973, Validation Accuracy : 0.9917, Training Loss: 0.000013, Validation Loss: 0.000191\n",
            "Epoch 59 / 100, Training accuracy: 0.9973, Validation Accuracy : 0.9919, Training Loss: 0.000013, Validation Loss: 0.000191\n",
            "Epoch 60 / 100, Training accuracy: 0.9973, Validation Accuracy : 0.9919, Training Loss: 0.000013, Validation Loss: 0.000192\n",
            "Epoch 61 / 100, Training accuracy: 0.9972, Validation Accuracy : 0.9916, Training Loss: 0.000013, Validation Loss: 0.000192\n"
          ]
        },
        {
          "output_type": "error",
          "ename": "KeyboardInterrupt",
          "evalue": "ignored",
          "traceback": [
            "\u001b[0;31m---------------------------------------------------------------------------\u001b[0m",
            "\u001b[0;31mKeyboardInterrupt\u001b[0m                         Traceback (most recent call last)",
            "\u001b[0;32m<ipython-input-162-3bf187a32ac2>\u001b[0m in \u001b[0;36m<cell line: 3>\u001b[0;34m()\u001b[0m\n\u001b[1;32m     23\u001b[0m     \u001b[0moptmizer\u001b[0m\u001b[0;34m.\u001b[0m\u001b[0mstep\u001b[0m\u001b[0;34m(\u001b[0m\u001b[0;34m)\u001b[0m\u001b[0;34m\u001b[0m\u001b[0;34m\u001b[0m\u001b[0m\n\u001b[1;32m     24\u001b[0m \u001b[0;34m\u001b[0m\u001b[0m\n\u001b[0;32m---> 25\u001b[0;31m   \u001b[0mtraining_accuracy\u001b[0m \u001b[0;34m=\u001b[0m \u001b[0mcheck_accuracy\u001b[0m\u001b[0;34m(\u001b[0m\u001b[0mmodel\u001b[0m\u001b[0;34m,\u001b[0m \u001b[0mtrain_loader\u001b[0m\u001b[0;34m)\u001b[0m\u001b[0;34m\u001b[0m\u001b[0;34m\u001b[0m\u001b[0m\n\u001b[0m\u001b[1;32m     26\u001b[0m   \u001b[0mval_accuracy\u001b[0m \u001b[0;34m=\u001b[0m \u001b[0mcheck_accuracy\u001b[0m\u001b[0;34m(\u001b[0m\u001b[0mmodel\u001b[0m\u001b[0;34m,\u001b[0m \u001b[0mtest_loader\u001b[0m\u001b[0;34m)\u001b[0m\u001b[0;34m\u001b[0m\u001b[0;34m\u001b[0m\u001b[0m\n\u001b[1;32m     27\u001b[0m   \u001b[0mtraining_loss\u001b[0m \u001b[0;34m=\u001b[0m \u001b[0mcheck_losses\u001b[0m\u001b[0;34m(\u001b[0m\u001b[0mmodel\u001b[0m\u001b[0;34m,\u001b[0m \u001b[0mtrain_loader\u001b[0m\u001b[0;34m)\u001b[0m\u001b[0;34m\u001b[0m\u001b[0;34m\u001b[0m\u001b[0m\n",
            "\u001b[0;32m<ipython-input-160-c57e58fd8450>\u001b[0m in \u001b[0;36mcheck_accuracy\u001b[0;34m(model, loader)\u001b[0m\n\u001b[1;32m      5\u001b[0m   \u001b[0mmodel\u001b[0m\u001b[0;34m.\u001b[0m\u001b[0mto\u001b[0m\u001b[0;34m(\u001b[0m\u001b[0mdevice\u001b[0m\u001b[0;34m)\u001b[0m\u001b[0;34m\u001b[0m\u001b[0;34m\u001b[0m\u001b[0m\n\u001b[1;32m      6\u001b[0m   \u001b[0;32mwith\u001b[0m \u001b[0mtorch\u001b[0m\u001b[0;34m.\u001b[0m\u001b[0mno_grad\u001b[0m\u001b[0;34m(\u001b[0m\u001b[0;34m)\u001b[0m\u001b[0;34m:\u001b[0m\u001b[0;34m\u001b[0m\u001b[0;34m\u001b[0m\u001b[0m\n\u001b[0;32m----> 7\u001b[0;31m     \u001b[0;32mfor\u001b[0m \u001b[0mx\u001b[0m\u001b[0;34m,\u001b[0m \u001b[0my\u001b[0m \u001b[0;32min\u001b[0m \u001b[0mloader\u001b[0m\u001b[0;34m:\u001b[0m\u001b[0;34m\u001b[0m\u001b[0;34m\u001b[0m\u001b[0m\n\u001b[0m\u001b[1;32m      8\u001b[0m       \u001b[0mx\u001b[0m \u001b[0;34m=\u001b[0m \u001b[0mx\u001b[0m\u001b[0;34m.\u001b[0m\u001b[0mto\u001b[0m\u001b[0;34m(\u001b[0m\u001b[0mdevice\u001b[0m\u001b[0;34m)\u001b[0m\u001b[0;34m\u001b[0m\u001b[0;34m\u001b[0m\u001b[0m\n\u001b[1;32m      9\u001b[0m       \u001b[0my\u001b[0m \u001b[0;34m=\u001b[0m \u001b[0my\u001b[0m\u001b[0;34m.\u001b[0m\u001b[0mto\u001b[0m\u001b[0;34m(\u001b[0m\u001b[0mdevice\u001b[0m\u001b[0;34m)\u001b[0m\u001b[0;34m\u001b[0m\u001b[0;34m\u001b[0m\u001b[0m\n",
            "\u001b[0;32m/usr/local/lib/python3.10/dist-packages/torch/utils/data/dataloader.py\u001b[0m in \u001b[0;36m__next__\u001b[0;34m(self)\u001b[0m\n\u001b[1;32m    631\u001b[0m                 \u001b[0;31m# TODO(https://github.com/pytorch/pytorch/issues/76750)\u001b[0m\u001b[0;34m\u001b[0m\u001b[0;34m\u001b[0m\u001b[0m\n\u001b[1;32m    632\u001b[0m                 \u001b[0mself\u001b[0m\u001b[0;34m.\u001b[0m\u001b[0m_reset\u001b[0m\u001b[0;34m(\u001b[0m\u001b[0;34m)\u001b[0m  \u001b[0;31m# type: ignore[call-arg]\u001b[0m\u001b[0;34m\u001b[0m\u001b[0;34m\u001b[0m\u001b[0m\n\u001b[0;32m--> 633\u001b[0;31m             \u001b[0mdata\u001b[0m \u001b[0;34m=\u001b[0m \u001b[0mself\u001b[0m\u001b[0;34m.\u001b[0m\u001b[0m_next_data\u001b[0m\u001b[0;34m(\u001b[0m\u001b[0;34m)\u001b[0m\u001b[0;34m\u001b[0m\u001b[0;34m\u001b[0m\u001b[0m\n\u001b[0m\u001b[1;32m    634\u001b[0m             \u001b[0mself\u001b[0m\u001b[0;34m.\u001b[0m\u001b[0m_num_yielded\u001b[0m \u001b[0;34m+=\u001b[0m \u001b[0;36m1\u001b[0m\u001b[0;34m\u001b[0m\u001b[0;34m\u001b[0m\u001b[0m\n\u001b[1;32m    635\u001b[0m             \u001b[0;32mif\u001b[0m \u001b[0mself\u001b[0m\u001b[0;34m.\u001b[0m\u001b[0m_dataset_kind\u001b[0m \u001b[0;34m==\u001b[0m \u001b[0m_DatasetKind\u001b[0m\u001b[0;34m.\u001b[0m\u001b[0mIterable\u001b[0m \u001b[0;32mand\u001b[0m\u001b[0;31m \u001b[0m\u001b[0;31m\\\u001b[0m\u001b[0;34m\u001b[0m\u001b[0;34m\u001b[0m\u001b[0m\n",
            "\u001b[0;32m/usr/local/lib/python3.10/dist-packages/torch/utils/data/dataloader.py\u001b[0m in \u001b[0;36m_next_data\u001b[0;34m(self)\u001b[0m\n\u001b[1;32m    675\u001b[0m     \u001b[0;32mdef\u001b[0m \u001b[0m_next_data\u001b[0m\u001b[0;34m(\u001b[0m\u001b[0mself\u001b[0m\u001b[0;34m)\u001b[0m\u001b[0;34m:\u001b[0m\u001b[0;34m\u001b[0m\u001b[0;34m\u001b[0m\u001b[0m\n\u001b[1;32m    676\u001b[0m         \u001b[0mindex\u001b[0m \u001b[0;34m=\u001b[0m \u001b[0mself\u001b[0m\u001b[0;34m.\u001b[0m\u001b[0m_next_index\u001b[0m\u001b[0;34m(\u001b[0m\u001b[0;34m)\u001b[0m  \u001b[0;31m# may raise StopIteration\u001b[0m\u001b[0;34m\u001b[0m\u001b[0;34m\u001b[0m\u001b[0m\n\u001b[0;32m--> 677\u001b[0;31m         \u001b[0mdata\u001b[0m \u001b[0;34m=\u001b[0m \u001b[0mself\u001b[0m\u001b[0;34m.\u001b[0m\u001b[0m_dataset_fetcher\u001b[0m\u001b[0;34m.\u001b[0m\u001b[0mfetch\u001b[0m\u001b[0;34m(\u001b[0m\u001b[0mindex\u001b[0m\u001b[0;34m)\u001b[0m  \u001b[0;31m# may raise StopIteration\u001b[0m\u001b[0;34m\u001b[0m\u001b[0;34m\u001b[0m\u001b[0m\n\u001b[0m\u001b[1;32m    678\u001b[0m         \u001b[0;32mif\u001b[0m \u001b[0mself\u001b[0m\u001b[0;34m.\u001b[0m\u001b[0m_pin_memory\u001b[0m\u001b[0;34m:\u001b[0m\u001b[0;34m\u001b[0m\u001b[0;34m\u001b[0m\u001b[0m\n\u001b[1;32m    679\u001b[0m             \u001b[0mdata\u001b[0m \u001b[0;34m=\u001b[0m \u001b[0m_utils\u001b[0m\u001b[0;34m.\u001b[0m\u001b[0mpin_memory\u001b[0m\u001b[0;34m.\u001b[0m\u001b[0mpin_memory\u001b[0m\u001b[0;34m(\u001b[0m\u001b[0mdata\u001b[0m\u001b[0;34m,\u001b[0m \u001b[0mself\u001b[0m\u001b[0;34m.\u001b[0m\u001b[0m_pin_memory_device\u001b[0m\u001b[0;34m)\u001b[0m\u001b[0;34m\u001b[0m\u001b[0;34m\u001b[0m\u001b[0m\n",
            "\u001b[0;32m/usr/local/lib/python3.10/dist-packages/torch/utils/data/_utils/fetch.py\u001b[0m in \u001b[0;36mfetch\u001b[0;34m(self, possibly_batched_index)\u001b[0m\n\u001b[1;32m     49\u001b[0m                 \u001b[0mdata\u001b[0m \u001b[0;34m=\u001b[0m \u001b[0mself\u001b[0m\u001b[0;34m.\u001b[0m\u001b[0mdataset\u001b[0m\u001b[0;34m.\u001b[0m\u001b[0m__getitems__\u001b[0m\u001b[0;34m(\u001b[0m\u001b[0mpossibly_batched_index\u001b[0m\u001b[0;34m)\u001b[0m\u001b[0;34m\u001b[0m\u001b[0;34m\u001b[0m\u001b[0m\n\u001b[1;32m     50\u001b[0m             \u001b[0;32melse\u001b[0m\u001b[0;34m:\u001b[0m\u001b[0;34m\u001b[0m\u001b[0;34m\u001b[0m\u001b[0m\n\u001b[0;32m---> 51\u001b[0;31m                 \u001b[0mdata\u001b[0m \u001b[0;34m=\u001b[0m \u001b[0;34m[\u001b[0m\u001b[0mself\u001b[0m\u001b[0;34m.\u001b[0m\u001b[0mdataset\u001b[0m\u001b[0;34m[\u001b[0m\u001b[0midx\u001b[0m\u001b[0;34m]\u001b[0m \u001b[0;32mfor\u001b[0m \u001b[0midx\u001b[0m \u001b[0;32min\u001b[0m \u001b[0mpossibly_batched_index\u001b[0m\u001b[0;34m]\u001b[0m\u001b[0;34m\u001b[0m\u001b[0;34m\u001b[0m\u001b[0m\n\u001b[0m\u001b[1;32m     52\u001b[0m         \u001b[0;32melse\u001b[0m\u001b[0;34m:\u001b[0m\u001b[0;34m\u001b[0m\u001b[0;34m\u001b[0m\u001b[0m\n\u001b[1;32m     53\u001b[0m             \u001b[0mdata\u001b[0m \u001b[0;34m=\u001b[0m \u001b[0mself\u001b[0m\u001b[0;34m.\u001b[0m\u001b[0mdataset\u001b[0m\u001b[0;34m[\u001b[0m\u001b[0mpossibly_batched_index\u001b[0m\u001b[0;34m]\u001b[0m\u001b[0;34m\u001b[0m\u001b[0;34m\u001b[0m\u001b[0m\n",
            "\u001b[0;32m/usr/local/lib/python3.10/dist-packages/torch/utils/data/_utils/fetch.py\u001b[0m in \u001b[0;36m<listcomp>\u001b[0;34m(.0)\u001b[0m\n\u001b[1;32m     49\u001b[0m                 \u001b[0mdata\u001b[0m \u001b[0;34m=\u001b[0m \u001b[0mself\u001b[0m\u001b[0;34m.\u001b[0m\u001b[0mdataset\u001b[0m\u001b[0;34m.\u001b[0m\u001b[0m__getitems__\u001b[0m\u001b[0;34m(\u001b[0m\u001b[0mpossibly_batched_index\u001b[0m\u001b[0;34m)\u001b[0m\u001b[0;34m\u001b[0m\u001b[0;34m\u001b[0m\u001b[0m\n\u001b[1;32m     50\u001b[0m             \u001b[0;32melse\u001b[0m\u001b[0;34m:\u001b[0m\u001b[0;34m\u001b[0m\u001b[0;34m\u001b[0m\u001b[0m\n\u001b[0;32m---> 51\u001b[0;31m                 \u001b[0mdata\u001b[0m \u001b[0;34m=\u001b[0m \u001b[0;34m[\u001b[0m\u001b[0mself\u001b[0m\u001b[0;34m.\u001b[0m\u001b[0mdataset\u001b[0m\u001b[0;34m[\u001b[0m\u001b[0midx\u001b[0m\u001b[0;34m]\u001b[0m \u001b[0;32mfor\u001b[0m \u001b[0midx\u001b[0m \u001b[0;32min\u001b[0m \u001b[0mpossibly_batched_index\u001b[0m\u001b[0;34m]\u001b[0m\u001b[0;34m\u001b[0m\u001b[0;34m\u001b[0m\u001b[0m\n\u001b[0m\u001b[1;32m     52\u001b[0m         \u001b[0;32melse\u001b[0m\u001b[0;34m:\u001b[0m\u001b[0;34m\u001b[0m\u001b[0;34m\u001b[0m\u001b[0m\n\u001b[1;32m     53\u001b[0m             \u001b[0mdata\u001b[0m \u001b[0;34m=\u001b[0m \u001b[0mself\u001b[0m\u001b[0;34m.\u001b[0m\u001b[0mdataset\u001b[0m\u001b[0;34m[\u001b[0m\u001b[0mpossibly_batched_index\u001b[0m\u001b[0;34m]\u001b[0m\u001b[0;34m\u001b[0m\u001b[0;34m\u001b[0m\u001b[0m\n",
            "\u001b[0;32m/usr/local/lib/python3.10/dist-packages/torchvision/datasets/mnist.py\u001b[0m in \u001b[0;36m__getitem__\u001b[0;34m(self, index)\u001b[0m\n\u001b[1;32m    143\u001b[0m \u001b[0;34m\u001b[0m\u001b[0m\n\u001b[1;32m    144\u001b[0m         \u001b[0;32mif\u001b[0m \u001b[0mself\u001b[0m\u001b[0;34m.\u001b[0m\u001b[0mtransform\u001b[0m \u001b[0;32mis\u001b[0m \u001b[0;32mnot\u001b[0m \u001b[0;32mNone\u001b[0m\u001b[0;34m:\u001b[0m\u001b[0;34m\u001b[0m\u001b[0;34m\u001b[0m\u001b[0m\n\u001b[0;32m--> 145\u001b[0;31m             \u001b[0mimg\u001b[0m \u001b[0;34m=\u001b[0m \u001b[0mself\u001b[0m\u001b[0;34m.\u001b[0m\u001b[0mtransform\u001b[0m\u001b[0;34m(\u001b[0m\u001b[0mimg\u001b[0m\u001b[0;34m)\u001b[0m\u001b[0;34m\u001b[0m\u001b[0;34m\u001b[0m\u001b[0m\n\u001b[0m\u001b[1;32m    146\u001b[0m \u001b[0;34m\u001b[0m\u001b[0m\n\u001b[1;32m    147\u001b[0m         \u001b[0;32mif\u001b[0m \u001b[0mself\u001b[0m\u001b[0;34m.\u001b[0m\u001b[0mtarget_transform\u001b[0m \u001b[0;32mis\u001b[0m \u001b[0;32mnot\u001b[0m \u001b[0;32mNone\u001b[0m\u001b[0;34m:\u001b[0m\u001b[0;34m\u001b[0m\u001b[0;34m\u001b[0m\u001b[0m\n",
            "\u001b[0;32m/usr/local/lib/python3.10/dist-packages/torchvision/transforms/transforms.py\u001b[0m in \u001b[0;36m__call__\u001b[0;34m(self, img)\u001b[0m\n\u001b[1;32m     93\u001b[0m     \u001b[0;32mdef\u001b[0m \u001b[0m__call__\u001b[0m\u001b[0;34m(\u001b[0m\u001b[0mself\u001b[0m\u001b[0;34m,\u001b[0m \u001b[0mimg\u001b[0m\u001b[0;34m)\u001b[0m\u001b[0;34m:\u001b[0m\u001b[0;34m\u001b[0m\u001b[0;34m\u001b[0m\u001b[0m\n\u001b[1;32m     94\u001b[0m         \u001b[0;32mfor\u001b[0m \u001b[0mt\u001b[0m \u001b[0;32min\u001b[0m \u001b[0mself\u001b[0m\u001b[0;34m.\u001b[0m\u001b[0mtransforms\u001b[0m\u001b[0;34m:\u001b[0m\u001b[0;34m\u001b[0m\u001b[0;34m\u001b[0m\u001b[0m\n\u001b[0;32m---> 95\u001b[0;31m             \u001b[0mimg\u001b[0m \u001b[0;34m=\u001b[0m \u001b[0mt\u001b[0m\u001b[0;34m(\u001b[0m\u001b[0mimg\u001b[0m\u001b[0;34m)\u001b[0m\u001b[0;34m\u001b[0m\u001b[0;34m\u001b[0m\u001b[0m\n\u001b[0m\u001b[1;32m     96\u001b[0m         \u001b[0;32mreturn\u001b[0m \u001b[0mimg\u001b[0m\u001b[0;34m\u001b[0m\u001b[0;34m\u001b[0m\u001b[0m\n\u001b[1;32m     97\u001b[0m \u001b[0;34m\u001b[0m\u001b[0m\n",
            "\u001b[0;32m/usr/local/lib/python3.10/dist-packages/torchvision/transforms/transforms.py\u001b[0m in \u001b[0;36m__call__\u001b[0;34m(self, pic)\u001b[0m\n\u001b[1;32m    135\u001b[0m             \u001b[0mTensor\u001b[0m\u001b[0;34m:\u001b[0m \u001b[0mConverted\u001b[0m \u001b[0mimage\u001b[0m\u001b[0;34m.\u001b[0m\u001b[0;34m\u001b[0m\u001b[0;34m\u001b[0m\u001b[0m\n\u001b[1;32m    136\u001b[0m         \"\"\"\n\u001b[0;32m--> 137\u001b[0;31m         \u001b[0;32mreturn\u001b[0m \u001b[0mF\u001b[0m\u001b[0;34m.\u001b[0m\u001b[0mto_tensor\u001b[0m\u001b[0;34m(\u001b[0m\u001b[0mpic\u001b[0m\u001b[0;34m)\u001b[0m\u001b[0;34m\u001b[0m\u001b[0;34m\u001b[0m\u001b[0m\n\u001b[0m\u001b[1;32m    138\u001b[0m \u001b[0;34m\u001b[0m\u001b[0m\n\u001b[1;32m    139\u001b[0m     \u001b[0;32mdef\u001b[0m \u001b[0m__repr__\u001b[0m\u001b[0;34m(\u001b[0m\u001b[0mself\u001b[0m\u001b[0;34m)\u001b[0m \u001b[0;34m->\u001b[0m \u001b[0mstr\u001b[0m\u001b[0;34m:\u001b[0m\u001b[0;34m\u001b[0m\u001b[0;34m\u001b[0m\u001b[0m\n",
            "\u001b[0;32m/usr/local/lib/python3.10/dist-packages/torchvision/transforms/functional.py\u001b[0m in \u001b[0;36mto_tensor\u001b[0;34m(pic)\u001b[0m\n\u001b[1;32m    164\u001b[0m     \u001b[0;31m# handle PIL Image\u001b[0m\u001b[0;34m\u001b[0m\u001b[0;34m\u001b[0m\u001b[0m\n\u001b[1;32m    165\u001b[0m     \u001b[0mmode_to_nptype\u001b[0m \u001b[0;34m=\u001b[0m \u001b[0;34m{\u001b[0m\u001b[0;34m\"I\"\u001b[0m\u001b[0;34m:\u001b[0m \u001b[0mnp\u001b[0m\u001b[0;34m.\u001b[0m\u001b[0mint32\u001b[0m\u001b[0;34m,\u001b[0m \u001b[0;34m\"I;16\"\u001b[0m\u001b[0;34m:\u001b[0m \u001b[0mnp\u001b[0m\u001b[0;34m.\u001b[0m\u001b[0mint16\u001b[0m\u001b[0;34m,\u001b[0m \u001b[0;34m\"F\"\u001b[0m\u001b[0;34m:\u001b[0m \u001b[0mnp\u001b[0m\u001b[0;34m.\u001b[0m\u001b[0mfloat32\u001b[0m\u001b[0;34m}\u001b[0m\u001b[0;34m\u001b[0m\u001b[0;34m\u001b[0m\u001b[0m\n\u001b[0;32m--> 166\u001b[0;31m     \u001b[0mimg\u001b[0m \u001b[0;34m=\u001b[0m \u001b[0mtorch\u001b[0m\u001b[0;34m.\u001b[0m\u001b[0mfrom_numpy\u001b[0m\u001b[0;34m(\u001b[0m\u001b[0mnp\u001b[0m\u001b[0;34m.\u001b[0m\u001b[0marray\u001b[0m\u001b[0;34m(\u001b[0m\u001b[0mpic\u001b[0m\u001b[0;34m,\u001b[0m \u001b[0mmode_to_nptype\u001b[0m\u001b[0;34m.\u001b[0m\u001b[0mget\u001b[0m\u001b[0;34m(\u001b[0m\u001b[0mpic\u001b[0m\u001b[0;34m.\u001b[0m\u001b[0mmode\u001b[0m\u001b[0;34m,\u001b[0m \u001b[0mnp\u001b[0m\u001b[0;34m.\u001b[0m\u001b[0muint8\u001b[0m\u001b[0;34m)\u001b[0m\u001b[0;34m,\u001b[0m \u001b[0mcopy\u001b[0m\u001b[0;34m=\u001b[0m\u001b[0;32mTrue\u001b[0m\u001b[0;34m)\u001b[0m\u001b[0;34m)\u001b[0m\u001b[0;34m\u001b[0m\u001b[0;34m\u001b[0m\u001b[0m\n\u001b[0m\u001b[1;32m    167\u001b[0m \u001b[0;34m\u001b[0m\u001b[0m\n\u001b[1;32m    168\u001b[0m     \u001b[0;32mif\u001b[0m \u001b[0mpic\u001b[0m\u001b[0;34m.\u001b[0m\u001b[0mmode\u001b[0m \u001b[0;34m==\u001b[0m \u001b[0;34m\"1\"\u001b[0m\u001b[0;34m:\u001b[0m\u001b[0;34m\u001b[0m\u001b[0;34m\u001b[0m\u001b[0m\n",
            "\u001b[0;32m/usr/local/lib/python3.10/dist-packages/PIL/Image.py\u001b[0m in \u001b[0;36m__array__\u001b[0;34m(self, dtype)\u001b[0m\n\u001b[1;32m    687\u001b[0m \u001b[0;34m\u001b[0m\u001b[0m\n\u001b[1;32m    688\u001b[0m         \u001b[0mnew\u001b[0m \u001b[0;34m=\u001b[0m \u001b[0;34m{\u001b[0m\u001b[0;34m}\u001b[0m\u001b[0;34m\u001b[0m\u001b[0;34m\u001b[0m\u001b[0m\n\u001b[0;32m--> 689\u001b[0;31m         \u001b[0mshape\u001b[0m\u001b[0;34m,\u001b[0m \u001b[0mtypestr\u001b[0m \u001b[0;34m=\u001b[0m \u001b[0m_conv_type_shape\u001b[0m\u001b[0;34m(\u001b[0m\u001b[0mself\u001b[0m\u001b[0;34m)\u001b[0m\u001b[0;34m\u001b[0m\u001b[0;34m\u001b[0m\u001b[0m\n\u001b[0m\u001b[1;32m    690\u001b[0m         \u001b[0mnew\u001b[0m\u001b[0;34m[\u001b[0m\u001b[0;34m\"shape\"\u001b[0m\u001b[0;34m]\u001b[0m \u001b[0;34m=\u001b[0m \u001b[0mshape\u001b[0m\u001b[0;34m\u001b[0m\u001b[0;34m\u001b[0m\u001b[0m\n\u001b[1;32m    691\u001b[0m         \u001b[0mnew\u001b[0m\u001b[0;34m[\u001b[0m\u001b[0;34m\"typestr\"\u001b[0m\u001b[0;34m]\u001b[0m \u001b[0;34m=\u001b[0m \u001b[0mtypestr\u001b[0m\u001b[0;34m\u001b[0m\u001b[0;34m\u001b[0m\u001b[0m\n",
            "\u001b[0;32m/usr/local/lib/python3.10/dist-packages/PIL/Image.py\u001b[0m in \u001b[0;36m_conv_type_shape\u001b[0;34m(im)\u001b[0m\n\u001b[1;32m    270\u001b[0m     \u001b[0mtyp\u001b[0m\u001b[0;34m,\u001b[0m \u001b[0mextra\u001b[0m \u001b[0;34m=\u001b[0m \u001b[0m_MODE_CONV\u001b[0m\u001b[0;34m[\u001b[0m\u001b[0mim\u001b[0m\u001b[0;34m.\u001b[0m\u001b[0mmode\u001b[0m\u001b[0;34m]\u001b[0m\u001b[0;34m\u001b[0m\u001b[0;34m\u001b[0m\u001b[0m\n\u001b[1;32m    271\u001b[0m     \u001b[0;32mif\u001b[0m \u001b[0mextra\u001b[0m \u001b[0;32mis\u001b[0m \u001b[0;32mNone\u001b[0m\u001b[0;34m:\u001b[0m\u001b[0;34m\u001b[0m\u001b[0;34m\u001b[0m\u001b[0m\n\u001b[0;32m--> 272\u001b[0;31m         \u001b[0;32mreturn\u001b[0m \u001b[0;34m(\u001b[0m\u001b[0mim\u001b[0m\u001b[0;34m.\u001b[0m\u001b[0msize\u001b[0m\u001b[0;34m[\u001b[0m\u001b[0;36m1\u001b[0m\u001b[0;34m]\u001b[0m\u001b[0;34m,\u001b[0m \u001b[0mim\u001b[0m\u001b[0;34m.\u001b[0m\u001b[0msize\u001b[0m\u001b[0;34m[\u001b[0m\u001b[0;36m0\u001b[0m\u001b[0;34m]\u001b[0m\u001b[0;34m)\u001b[0m\u001b[0;34m,\u001b[0m \u001b[0mtyp\u001b[0m\u001b[0;34m\u001b[0m\u001b[0;34m\u001b[0m\u001b[0m\n\u001b[0m\u001b[1;32m    273\u001b[0m     \u001b[0;32melse\u001b[0m\u001b[0;34m:\u001b[0m\u001b[0;34m\u001b[0m\u001b[0;34m\u001b[0m\u001b[0m\n\u001b[1;32m    274\u001b[0m         \u001b[0;32mreturn\u001b[0m \u001b[0;34m(\u001b[0m\u001b[0mim\u001b[0m\u001b[0;34m.\u001b[0m\u001b[0msize\u001b[0m\u001b[0;34m[\u001b[0m\u001b[0;36m1\u001b[0m\u001b[0;34m]\u001b[0m\u001b[0;34m,\u001b[0m \u001b[0mim\u001b[0m\u001b[0;34m.\u001b[0m\u001b[0msize\u001b[0m\u001b[0;34m[\u001b[0m\u001b[0;36m0\u001b[0m\u001b[0;34m]\u001b[0m\u001b[0;34m,\u001b[0m \u001b[0mextra\u001b[0m\u001b[0;34m)\u001b[0m\u001b[0;34m,\u001b[0m \u001b[0mtyp\u001b[0m\u001b[0;34m\u001b[0m\u001b[0;34m\u001b[0m\u001b[0m\n",
            "\u001b[0;32m/usr/local/lib/python3.10/dist-packages/PIL/Image.py\u001b[0m in \u001b[0;36msize\u001b[0;34m(self)\u001b[0m\n\u001b[1;32m    554\u001b[0m         \u001b[0;32mreturn\u001b[0m \u001b[0mself\u001b[0m\u001b[0;34m.\u001b[0m\u001b[0msize\u001b[0m\u001b[0;34m[\u001b[0m\u001b[0;36m1\u001b[0m\u001b[0;34m]\u001b[0m\u001b[0;34m\u001b[0m\u001b[0;34m\u001b[0m\u001b[0m\n\u001b[1;32m    555\u001b[0m \u001b[0;34m\u001b[0m\u001b[0m\n\u001b[0;32m--> 556\u001b[0;31m     \u001b[0;34m@\u001b[0m\u001b[0mproperty\u001b[0m\u001b[0;34m\u001b[0m\u001b[0;34m\u001b[0m\u001b[0m\n\u001b[0m\u001b[1;32m    557\u001b[0m     \u001b[0;32mdef\u001b[0m \u001b[0msize\u001b[0m\u001b[0;34m(\u001b[0m\u001b[0mself\u001b[0m\u001b[0;34m)\u001b[0m\u001b[0;34m:\u001b[0m\u001b[0;34m\u001b[0m\u001b[0;34m\u001b[0m\u001b[0m\n\u001b[1;32m    558\u001b[0m         \u001b[0;32mreturn\u001b[0m \u001b[0mself\u001b[0m\u001b[0;34m.\u001b[0m\u001b[0m_size\u001b[0m\u001b[0;34m\u001b[0m\u001b[0;34m\u001b[0m\u001b[0m\n",
            "\u001b[0;31mKeyboardInterrupt\u001b[0m: "
          ]
        }
      ]
    },
    {
      "cell_type": "code",
      "source": [
        "history = [x.data for x in history]"
      ],
      "metadata": {
        "id": "VE57zlTi6vNC"
      },
      "execution_count": null,
      "outputs": []
    },
    {
      "cell_type": "code",
      "source": [],
      "metadata": {
        "id": "SEEUJY--OyZY"
      },
      "execution_count": null,
      "outputs": []
    }
  ]
}